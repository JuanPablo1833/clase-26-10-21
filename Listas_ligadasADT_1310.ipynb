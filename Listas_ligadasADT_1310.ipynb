{
  "nbformat": 4,
  "nbformat_minor": 0,
  "metadata": {
    "colab": {
      "name": "Listas ligadasADT_1310.ipynb",
      "provenance": [],
      "authorship_tag": "ABX9TyOXKxTHbFLcxgeqMCAd+oV5",
      "include_colab_link": true
    },
    "kernelspec": {
      "name": "python3",
      "display_name": "Python 3"
    },
    "language_info": {
      "name": "python"
    }
  },
  "cells": [
    {
      "cell_type": "markdown",
      "metadata": {
        "id": "view-in-github",
        "colab_type": "text"
      },
      "source": [
        "<a href=\"https://colab.research.google.com/github/JuanPablo1833/clase-26-10-21/blob/main/Listas_ligadasADT_1310.ipynb\" target=\"_parent\"><img src=\"https://colab.research.google.com/assets/colab-badge.svg\" alt=\"Open In Colab\"/></a>"
      ]
    },
    {
      "cell_type": "markdown",
      "metadata": {
        "id": "1PYcGhjC0lFl"
      },
      "source": [
        "#Ejercicios con la clase nodo\n",
        "-crear un nodo\n",
        "   -imprimir el valor del nodo\n",
        "-crear 2 nodo\n",
        "   -imprimir el valor del primero\n",
        "   -imprimir el valor del segundo\n",
        "   -tranversal\n",
        "-lo mismo perom con 4 nodos 10,20,30,40\n",
        "   -imorimir el valor del primero\n",
        "   -imprimir el valor del ultimo\n",
        "   -trenaversal\n",
        "   -insertar el nodo 25 despues del nodo 20 y antes del nodo 30"
      ]
    },
    {
      "cell_type": "code",
      "metadata": {
        "id": "dxMkhlbAlqa9"
      },
      "source": [
        "class Nodo:\n",
        "    def __init__(self, value, siguiente =None ):\n",
        "        self.data = value\n",
        "        self.next = siguiente"
      ],
      "execution_count": 2,
      "outputs": []
    },
    {
      "cell_type": "code",
      "metadata": {
        "colab": {
          "base_uri": "https://localhost:8080/"
        },
        "id": "m3Lw5kFX1vAs",
        "outputId": "ad007f86-01bf-4a2e-e6e1-441c09958cbe"
      },
      "source": [
        "head = Nodo(10)\n",
        "print(head.data)"
      ],
      "execution_count": 3,
      "outputs": [
        {
          "output_type": "stream",
          "name": "stdout",
          "text": [
            "10\n"
          ]
        }
      ]
    },
    {
      "cell_type": "code",
      "metadata": {
        "colab": {
          "base_uri": "https://localhost:8080/"
        },
        "id": "1FSDOMKC2ebl",
        "outputId": "84397051-2f70-4912-996d-0dd35dc70474"
      },
      "source": [
        "head = Nodo(10)\n",
        "head.next = Nodo(20)\n",
        "print(f\"Primero: {head.data}\")\n",
        "print(f\"Segundo: {head.next.data}\")\n",
        "print(\"---------------------------------------\")\n",
        "\n",
        "#lo mismo pero ahorrando codigo\n",
        "head = Nodo(10, Nodo(20))\n",
        "print(f\"Primero: {head.data}\")\n",
        "print(f\"Segundo: {head.next.data}\")\n",
        "\n",
        "print(\"---------------------------------------\")\n",
        "#tranversal\n",
        "curr_node = head\n",
        "while curr_node != None:\n",
        "    print(f\"|{curr_node.data}| --> \", end=\"\")\n",
        "    curr_node = curr_node.next\n",
        "print(\"\")\n",
        "\n",
        "\n",
        "\n"
      ],
      "execution_count": 4,
      "outputs": [
        {
          "output_type": "stream",
          "name": "stdout",
          "text": [
            "Primero: 10\n",
            "Segundo: 20\n",
            "---------------------------------------\n",
            "Primero: 10\n",
            "Segundo: 20\n",
            "---------------------------------------\n",
            "|10| --> |20| --> \n"
          ]
        }
      ]
    },
    {
      "cell_type": "code",
      "metadata": {
        "colab": {
          "base_uri": "https://localhost:8080/"
        },
        "id": "4u77ClH266Tj",
        "outputId": "08193c94-762e-4e43-82d6-2e0ff6fcee33"
      },
      "source": [
        "head = Nodo(10,Nodo(20,Nodo(30,Nodo(40))))\n",
        "curr_node = head\n",
        "while curr_node != None:\n",
        "    print(f\"|{curr_node.data}| --> \", end=\"\")\n",
        "    curr_node = curr_node.next\n",
        "\n",
        "print(\"\")\n",
        "#imprimir el primero\n",
        "print(head.data)\n",
        "#imprimir el ultimo\n",
        "curr_node = head\n",
        "while curr_node.next != None:\n",
        "    curr_node = curr_node.next\n",
        "print(curr_node.data)    \n",
        "\n",
        "\n",
        "curr_node = head \n",
        "while curr_node.data != 20:\n",
        "    curr_node = curr_node.next\n",
        "print(curr_node.data)\n",
        "\n",
        "#CREAR EL NODO 25\n",
        "#curr_node.next = Nodo(25, curr_node.next = Nodo(25, curr_node.next))\n",
        "curr_node.next = Nodo(25, curr_node.next )\n",
        "print(\"des\")\n",
        "curr_node = head\n",
        "while curr_node != None:\n",
        "    print(f\"|{curr_node.data}| --> \", end=\"\")\n",
        "    curr_node = curr_node.next\n",
        "print(\"\")\n",
        "\n",
        "\n"
      ],
      "execution_count": 17,
      "outputs": [
        {
          "output_type": "stream",
          "name": "stdout",
          "text": [
            "|10| --> |20| --> |30| --> |40| --> \n",
            "10\n",
            "40\n",
            "20\n",
            "des\n",
            "|10| --> |20| --> |25| --> |30| --> |40| --> \n"
          ]
        }
      ]
    },
    {
      "cell_type": "code",
      "metadata": {
        "colab": {
          "base_uri": "https://localhost:8080/"
        },
        "id": "v0GFPMTNbMri",
        "outputId": "29e9e24d-5930-4e81-e4d4-3df744572dad"
      },
      "source": [
        "a=10\n",
        "b=20\n",
        "c=15\n",
        "c=c+a\n",
        "c= (c+a)*b\n",
        "print(c)"
      ],
      "execution_count": 8,
      "outputs": [
        {
          "output_type": "stream",
          "name": "stdout",
          "text": [
            "700\n"
          ]
        }
      ]
    },
    {
      "cell_type": "code",
      "metadata": {
        "id": "s70WWY62cq6g"
      },
      "source": [
        "class LinkedList:\n",
        "    def __init__(self):\n",
        "        self.head = None\n",
        "\n",
        "    def is_empty(self):\n",
        "        return self.head == None\n",
        "\n",
        "    def get_tail(self):\n",
        "        if self.is_empty():\n",
        "            return None\n",
        "        else:    \n",
        "\n",
        "            curr_node = self.head\n",
        "            while curr_node.next != None:\n",
        "                curr_node = curr_node.next\n",
        "            return curr_node    \n",
        "\n",
        "    def append(self, value):\n",
        "        if self.head == None:\n",
        "            self.head = Nodo(value)\n",
        "        else:\n",
        "            curr_node =self.head\n",
        "            while curr_node.next != None:\n",
        "                curr_node = curr_node.next\n",
        "            curr_node.next = Nodo(value)\n",
        "\n",
        "    def transversal(self):\n",
        "        curr_node = self.head\n",
        "        while curr_node != None:\n",
        "            print(f\"|{curr_node.data}|-->\", end=\"\")\n",
        "            curr_node = curr_node.next  \n",
        "        print(\"\")     \n",
        "\n",
        "    def remove( self, value):\n",
        "        if self.head == None:\n",
        "            print(\"lista vcia\"    )\n",
        "        else:\n",
        "            curr_node = self.head\n",
        "            aux = None\n",
        "            while curr_node.data != value:\n",
        "                aux = curr_node\n",
        "                curr_node = curr_node.next\n",
        "            if curr_node != None:\n",
        "                aux.next = curr_node.next\n",
        "                curr_node = None    \n",
        "    def preppend(self,value):\n",
        "        if self.head == None:\n",
        "            print(\"no se puede\")\n",
        "        else:\n",
        "            aux = self.head\n",
        "            self.head = Nodo(value, aux)\n",
        "\n",
        "#self.head = Nodo(value , value.head)\n",
        "\n",
        "\n"
      ],
      "execution_count": 53,
      "outputs": []
    },
    {
      "cell_type": "code",
      "metadata": {
        "colab": {
          "base_uri": "https://localhost:8080/"
        },
        "id": "AQy7-Q0LfcoX",
        "outputId": "8cb40ed5-3e99-4eb6-926c-0b6dd5b0c1f0"
      },
      "source": [
        "lista = LinkedList()\n",
        "if lista.is_empty():\n",
        "    print(\"lisat vacia\")\n",
        "else:\n",
        "    print(\"laq lista no esta vacia\")  \n",
        "lista.append(10)\n",
        "lista.append(20)\n",
        "lista.append(30) \n",
        "lista.append(40) \n",
        "lista.append(50)     \n",
        "nodo = lista.get_tail() \n",
        "if nodo != None:\n",
        "    print(nodo.data)\n",
        "else:   \n",
        "    print(\"laq lista no esta vacia\") \n",
        "lista.transversal()\n",
        "lista.remove(30)\n",
        "lista.transversal()\n",
        "lista.preppend(5)\n",
        "lista.transversal()"
      ],
      "execution_count": 54,
      "outputs": [
        {
          "output_type": "stream",
          "name": "stdout",
          "text": [
            "lisat vacia\n",
            "50\n",
            "|10|-->|20|-->|30|-->|40|-->|50|-->\n",
            "|10|-->|20|-->|40|-->|50|-->\n",
            "|5|-->|10|-->|20|-->|40|-->|50|-->\n"
          ]
        }
      ]
    }
  ]
}